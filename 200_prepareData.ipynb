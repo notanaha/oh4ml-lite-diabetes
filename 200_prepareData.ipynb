{
 "cells": [
  {
   "cell_type": "code",
   "execution_count": null,
   "id": "f9c3cc96",
   "metadata": {},
   "outputs": [],
   "source": [
    "from azure.ai.ml import MLClient\n",
    "from azure.ai.ml.entities import Data\n",
    "from azure.identity import DefaultAzureCredential\n",
    "from azure.ai.ml.constants import AssetTypes"
   ]
  },
  {
   "cell_type": "code",
   "execution_count": null,
   "id": "b773bcc1",
   "metadata": {},
   "outputs": [],
   "source": [
    "# Need config.json file in the same folder\n",
    "from azure.ai.ml import MLClient\n",
    "from azure.identity import DefaultAzureCredential\n",
    "ml_client = MLClient.from_config(credential=DefaultAzureCredential(exclude_shared_token_cache_credential=True),\n",
    "                     logging_enable=True)"
   ]
  },
  {
   "cell_type": "markdown",
   "id": "6c5daabd",
   "metadata": {},
   "source": [
    "### Retrieve diabetes dataset"
   ]
  },
  {
   "cell_type": "code",
   "execution_count": null,
   "id": "2ec6c443",
   "metadata": {},
   "outputs": [],
   "source": [
    "import numpy as np\n",
    "import pandas as pd\n",
    "from sklearn import datasets\n",
    " \n",
    "# Load diabetes datasets\n",
    "diabetes = datasets.load_diabetes()\n",
    "X = diabetes.data\n",
    "y = diabetes.target\n",
    " \n",
    "# Create a pandas DataFrame that serves as sample input for the deployed ElasticNet model\n",
    "Y = np.array([y]).transpose()\n",
    "d = np.concatenate((X, Y), axis=1)\n",
    "cols = ['age', 'sex', 'bmi', 'bp', 's1', 's2', 's3', 's4', 's5', 's6', 'progression']\n",
    "data = pd.DataFrame(d, columns=cols)\n",
    "query = data.drop([\"progression\"], axis=1)"
   ]
  },
  {
   "cell_type": "code",
   "execution_count": null,
   "id": "556fc949",
   "metadata": {},
   "outputs": [],
   "source": [
    "data.to_csv(\"diabetes_data.csv\", index=False)\n",
    "query.to_csv(\"diabetes_query.csv\", index=False)"
   ]
  },
  {
   "cell_type": "markdown",
   "id": "bfbd3634",
   "metadata": {},
   "source": [
    "## Register dataset"
   ]
  },
  {
   "cell_type": "code",
   "execution_count": null,
   "id": "268c3108",
   "metadata": {},
   "outputs": [],
   "source": [
    "data = Data(\n",
    "    path = \"./diabetes_data.csv\",\n",
    "    type = AssetTypes.URI_FILE,\n",
    "    description = \"diabades data for oh4ml\",\n",
    "    name = \"diabetes_data_oh4ml\",\n",
    "    version = '1'\n",
    ")\n",
    "\n",
    "ml_client.data.create_or_update(data)"
   ]
  },
  {
   "cell_type": "code",
   "execution_count": null,
   "id": "b92de5e7",
   "metadata": {},
   "outputs": [],
   "source": [
    "data = Data(\n",
    "    path = \"./diabetes_query.csv\",\n",
    "    type = AssetTypes.URI_FILE,\n",
    "    description = \"diabetes query for oh4ml\",\n",
    "    name = \"diabetes_query_oh4ml\",\n",
    "    version = '1'\n",
    ")\n",
    "\n",
    "ml_client.data.create_or_update(data)"
   ]
  },
  {
   "cell_type": "markdown",
   "id": "72814e0a",
   "metadata": {},
   "source": [
    "## Train local"
   ]
  },
  {
   "cell_type": "code",
   "execution_count": null,
   "id": "56474ea8",
   "metadata": {},
   "outputs": [],
   "source": [
    "import matplotlib.pyplot as plt\n",
    "import numpy as np\n",
    "from sklearn.linear_model import Ridge\n",
    "from sklearn.metrics import mean_squared_error, r2_score\n",
    "from sklearn.model_selection import train_test_split"
   ]
  },
  {
   "cell_type": "code",
   "execution_count": null,
   "id": "13e72763",
   "metadata": {},
   "outputs": [],
   "source": [
    "X_train, X_test, y_train, y_test = train_test_split(X, y, test_size=0.2, random_state=0)"
   ]
  },
  {
   "cell_type": "code",
   "execution_count": null,
   "id": "6f7a9384",
   "metadata": {},
   "outputs": [],
   "source": [
    "regression_model = Ridge(alpha=0.03)\n",
    "regression_model.fit(X_train, y_train)\n",
    "prediction = regression_model.predict(X_test)"
   ]
  },
  {
   "cell_type": "code",
   "execution_count": null,
   "id": "f5de26b5",
   "metadata": {},
   "outputs": [],
   "source": [
    "mse = mean_squared_error(y_test, prediction)\n",
    "rmse = np.sqrt(mse)\n",
    "r2 = r2_score(y_test, prediction)\n",
    "\n",
    "print(\"MSE: \", mse)\n",
    "print(\"RMSE: \", rmse)\n",
    "print(\"R2: \", r2)"
   ]
  },
  {
   "cell_type": "code",
   "execution_count": null,
   "id": "a80415bb",
   "metadata": {},
   "outputs": [],
   "source": [
    "fig = plt.figure()\n",
    "idx = np.argsort(y_test)\n",
    "plt.plot(y_test[idx], prediction[idx])"
   ]
  },
  {
   "cell_type": "code",
   "execution_count": null,
   "id": "8c11eaa7",
   "metadata": {},
   "outputs": [],
   "source": []
  }
 ],
 "metadata": {
  "kernelspec": {
   "display_name": "Python 3.8.12 ('py38r')",
   "language": "python",
   "name": "python3"
  },
  "language_info": {
   "codemirror_mode": {
    "name": "ipython",
    "version": 3
   },
   "file_extension": ".py",
   "mimetype": "text/x-python",
   "name": "python",
   "nbconvert_exporter": "python",
   "pygments_lexer": "ipython3",
   "version": "3.8.12"
  },
  "vscode": {
   "interpreter": {
    "hash": "69873db2baa386ed3a723fb7c9f8d59af43aa5f9dece46002aff32febc16f8e2"
   }
  }
 },
 "nbformat": 4,
 "nbformat_minor": 5
}
